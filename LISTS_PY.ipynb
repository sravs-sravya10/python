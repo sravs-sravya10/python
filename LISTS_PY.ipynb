{
  "nbformat": 4,
  "nbformat_minor": 0,
  "metadata": {
    "colab": {
      "provenance": [],
      "authorship_tag": "ABX9TyMe3ZUHgV/AARHf7xCiNCnq",
      "include_colab_link": true
    },
    "kernelspec": {
      "name": "python3",
      "display_name": "Python 3"
    },
    "language_info": {
      "name": "python"
    }
  },
  "cells": [
    {
      "cell_type": "markdown",
      "metadata": {
        "id": "view-in-github",
        "colab_type": "text"
      },
      "source": [
        "<a href=\"https://colab.research.google.com/github/sravs-sravya10/python/blob/main/LISTS_PY.ipynb\" target=\"_parent\"><img src=\"https://colab.research.google.com/assets/colab-badge.svg\" alt=\"Open In Colab\"/></a>"
      ]
    },
    {
      "cell_type": "code",
      "execution_count": null,
      "metadata": {
        "id": "Pulwo-eHPWuG",
        "colab": {
          "base_uri": "https://localhost:8080/"
        },
        "outputId": "d6e8a0ed-5f77-49f6-ed4e-30e6408e7974"
      },
      "outputs": [
        {
          "output_type": "stream",
          "name": "stdout",
          "text": [
            "<class 'list'>\n"
          ]
        }
      ],
      "source": [
        "a=[\"apple\",\"banana\",\"cherry\"]\n",
        "print(type(a))"
      ]
    },
    {
      "cell_type": "code",
      "source": [
        "names=[\"mahesh\",\"potti\",\"sravya\"]\n",
        "cars=[\"ford\",\"BMW\",\"rolex\"]\n",
        "names.extend(cars)\n",
        "print(names)"
      ],
      "metadata": {
        "colab": {
          "base_uri": "https://localhost:8080/"
        },
        "id": "RIHX3paLu1lM",
        "outputId": "62529e02-0163-4fd2-9aa6-5713cc2b4680"
      },
      "execution_count": 1,
      "outputs": [
        {
          "output_type": "stream",
          "name": "stdout",
          "text": [
            "['mahesh', 'potti', 'sravya', 'ford', 'BMW', 'rolex']\n"
          ]
        }
      ]
    },
    {
      "cell_type": "code",
      "source": [
        "mylist=['a','b','c','d','e']\n",
        "x=mylist.index(\"d\")\n",
        "print(x)"
      ],
      "metadata": {
        "colab": {
          "base_uri": "https://localhost:8080/"
        },
        "id": "6_CDVttCvhkr",
        "outputId": "81b5f80d-e827-4d89-de26-3e67f3b58577"
      },
      "execution_count": 3,
      "outputs": [
        {
          "output_type": "stream",
          "name": "stdout",
          "text": [
            "3\n"
          ]
        }
      ]
    },
    {
      "cell_type": "code",
      "source": [
        "fruits=[\"apple\",\"banana\",\"cherry\"]\n",
        "fruits.remove(\"cherry\")\n",
        "print(fruits)"
      ],
      "metadata": {
        "colab": {
          "base_uri": "https://localhost:8080/"
        },
        "id": "7isucsa6v8iE",
        "outputId": "5d80a1e0-50b2-4331-f9c0-b311a27f50d3"
      },
      "execution_count": 12,
      "outputs": [
        {
          "output_type": "stream",
          "name": "stdout",
          "text": [
            "['apple', 'banana']\n"
          ]
        }
      ]
    },
    {
      "cell_type": "code",
      "source": [
        "fruits=[\"apple\",\"banana\",\"cherry\"]\n",
        "fruits.reverse()\n",
        "print(fruits)"
      ],
      "metadata": {
        "colab": {
          "base_uri": "https://localhost:8080/"
        },
        "id": "xcPQxVhEyklU",
        "outputId": "c04de3a9-9086-4049-abed-b1e9e394a3c2"
      },
      "execution_count": 14,
      "outputs": [
        {
          "output_type": "stream",
          "name": "stdout",
          "text": [
            "['cherry', 'banana', 'apple']\n"
          ]
        }
      ]
    },
    {
      "cell_type": "code",
      "source": [
        "fruits=[\"apple\",\"banana\",\"cherry\"]\n",
        "fruits.pop(1)\n",
        "print(fruits)"
      ],
      "metadata": {
        "colab": {
          "base_uri": "https://localhost:8080/"
        },
        "id": "ztOZeaibwY1J",
        "outputId": "e20b7208-bac1-4848-ca71-0a3b8e09b690"
      },
      "execution_count": 11,
      "outputs": [
        {
          "output_type": "stream",
          "name": "stdout",
          "text": [
            "['apple', 'cherry']\n"
          ]
        }
      ]
    },
    {
      "cell_type": "code",
      "source": [
        "mylist=['a','b','c','d']\n",
        "x=mylist.remove('c')\n",
        "print(x)"
      ],
      "metadata": {
        "colab": {
          "base_uri": "https://localhost:8080/"
        },
        "id": "O-OerTeEw2au",
        "outputId": "43af3518-8422-400b-c55c-5ba5ae08f0c6"
      },
      "execution_count": 8,
      "outputs": [
        {
          "output_type": "stream",
          "name": "stdout",
          "text": [
            "None\n"
          ]
        }
      ]
    },
    {
      "cell_type": "code",
      "source": [
        "names=[\"sravya\",\"kavya\",\"sunitha\"]\n",
        "x=names.sort()\n",
        "print(x)"
      ],
      "metadata": {
        "colab": {
          "base_uri": "https://localhost:8080/"
        },
        "id": "p4BIpAxXxRhL",
        "outputId": "fd18843d-f4a0-4d54-96fc-29deb53c6679"
      },
      "execution_count": 15,
      "outputs": [
        {
          "output_type": "stream",
          "name": "stdout",
          "text": [
            "None\n"
          ]
        }
      ]
    },
    {
      "cell_type": "code",
      "source": [
        "names=[\"sravya\",\"kavya\",\"sasi\"]\n",
        "names.append(\"sai\")\n",
        "print(names)"
      ],
      "metadata": {
        "colab": {
          "base_uri": "https://localhost:8080/"
        },
        "id": "gFiA8RvVQ7nV",
        "outputId": "7b64c77f-0175-4e86-95cb-f39fd4fed04d"
      },
      "execution_count": null,
      "outputs": [
        {
          "output_type": "stream",
          "name": "stdout",
          "text": [
            "['sravya', 'kavya', 'sasi', 'sai']\n"
          ]
        }
      ]
    },
    {
      "cell_type": "code",
      "source": [
        "classs=[\"first\",\"second\",\"third\"]\n",
        "classs.clear()\n",
        "print(classs)"
      ],
      "metadata": {
        "colab": {
          "base_uri": "https://localhost:8080/"
        },
        "id": "BfDWAMqURhZl",
        "outputId": "e6862164-4490-47d7-9856-f80e8e05d5f9"
      },
      "execution_count": null,
      "outputs": [
        {
          "output_type": "stream",
          "name": "stdout",
          "text": [
            "[]\n"
          ]
        }
      ]
    },
    {
      "cell_type": "code",
      "source": [
        "things=[\"pen\",\"pencil\",\"book\"]\n",
        "things.copy()\n",
        "print(things)"
      ],
      "metadata": {
        "colab": {
          "base_uri": "https://localhost:8080/"
        },
        "id": "5nX_30_pR-xW",
        "outputId": "83f5ea19-9f46-48cf-dfc1-b68d6ea4de38"
      },
      "execution_count": null,
      "outputs": [
        {
          "output_type": "stream",
          "name": "stdout",
          "text": [
            "['pen', 'pencil', 'book']\n"
          ]
        }
      ]
    },
    {
      "cell_type": "code",
      "source": [
        "fruits=[\"apple\",\"banana\",\"cherry\",\"apple\"]\n",
        "x=fruits.count(\"apple\")\n",
        "print(x)"
      ],
      "metadata": {
        "colab": {
          "base_uri": "https://localhost:8080/"
        },
        "id": "wAv32qsZSVxn",
        "outputId": "a39bb702-1804-43ac-aa8b-baca909abe5b"
      },
      "execution_count": null,
      "outputs": [
        {
          "output_type": "stream",
          "name": "stdout",
          "text": [
            "1\n"
          ]
        }
      ]
    },
    {
      "cell_type": "markdown",
      "source": [],
      "metadata": {
        "id": "rySf4JHuPdKK"
      }
    }
  ]
}