{
  "nbformat": 4,
  "nbformat_minor": 0,
  "metadata": {
    "colab": {
      "provenance": [],
      "authorship_tag": "ABX9TyN+aNHLZczD7tpKT+9z+xui",
      "include_colab_link": true
    },
    "kernelspec": {
      "name": "python3",
      "display_name": "Python 3"
    },
    "language_info": {
      "name": "python"
    }
  },
  "cells": [
    {
      "cell_type": "markdown",
      "metadata": {
        "id": "view-in-github",
        "colab_type": "text"
      },
      "source": [
        "<a href=\"https://colab.research.google.com/github/sravs-sravya10/python/blob/main/string__methods.ipynb\" target=\"_parent\"><img src=\"https://colab.research.google.com/assets/colab-badge.svg\" alt=\"Open In Colab\"/></a>"
      ]
    },
    {
      "cell_type": "code",
      "execution_count": null,
      "metadata": {
        "colab": {
          "base_uri": "https://localhost:8080/"
        },
        "id": "liKuhTQOVrAa",
        "outputId": "dd135fde-f989-457d-f81b-7ecf0797098a"
      },
      "outputs": [
        {
          "output_type": "stream",
          "name": "stdout",
          "text": [
            "Nature is beautiful\n"
          ]
        }
      ],
      "source": [
        "mylist=\"nature is beautiful\"\n",
        "x=mylist.capitalize()\n",
        "print(x)                                     #capitalize"
      ]
    },
    {
      "cell_type": "code",
      "source": [
        "mylist=\"Nature is Beautiful\"\n",
        "x=mylist.casefold()\n",
        "print(x)                                      #casefold"
      ],
      "metadata": {
        "colab": {
          "base_uri": "https://localhost:8080/"
        },
        "id": "wxuvwGsLWGpj",
        "outputId": "bba3cdcf-ce72-400f-ee7a-aa4fa9f39cd8"
      },
      "execution_count": null,
      "outputs": [
        {
          "output_type": "stream",
          "name": "stdout",
          "text": [
            "nature is beautiful\n"
          ]
        }
      ]
    },
    {
      "cell_type": "code",
      "source": [
        "mylist=\"Nature is Beautiful\"\n",
        "x=mylist.center(30)\n",
        "print(x)                                       #center"
      ],
      "metadata": {
        "colab": {
          "base_uri": "https://localhost:8080/"
        },
        "id": "IoeVGPUUWWrF",
        "outputId": "db2cfea9-63f3-48ac-d6a7-cc120959239f"
      },
      "execution_count": null,
      "outputs": [
        {
          "output_type": "stream",
          "name": "stdout",
          "text": [
            "     Nature is Beautiful      \n"
          ]
        }
      ]
    },
    {
      "cell_type": "code",
      "source": [
        "mylist=\"Nature is Beautiful\"\n",
        "x=mylist.count(\"e\")\n",
        "print(x)                                       #count"
      ],
      "metadata": {
        "colab": {
          "base_uri": "https://localhost:8080/"
        },
        "id": "cCSV6C4OWiGC",
        "outputId": "6d102057-25a7-4046-ab08-bed389834573"
      },
      "execution_count": null,
      "outputs": [
        {
          "output_type": "stream",
          "name": "stdout",
          "text": [
            "2\n"
          ]
        }
      ]
    },
    {
      "cell_type": "code",
      "source": [
        "mylist=\"Nature is Beautiful\"\n",
        "x=mylist.encode()\n",
        "print(x)                                       #encode"
      ],
      "metadata": {
        "id": "vBi2xhUKWz65",
        "colab": {
          "base_uri": "https://localhost:8080/"
        },
        "outputId": "9aa0f58f-29c3-4692-fd9e-4c309a7d7f55"
      },
      "execution_count": null,
      "outputs": [
        {
          "output_type": "stream",
          "name": "stdout",
          "text": [
            "b'Nature is Beautiful'\n"
          ]
        }
      ]
    },
    {
      "cell_type": "code",
      "source": [
        "mylist=\"Nature is Beautiful\"\n",
        "x=mylist.endswith(\".\")\n",
        "print(x)                                       #endswith"
      ],
      "metadata": {
        "colab": {
          "base_uri": "https://localhost:8080/"
        },
        "id": "OmRbiQhvc8an",
        "outputId": "30a1be9b-5fa4-4487-e2b4-d78a3eae3dfb"
      },
      "execution_count": null,
      "outputs": [
        {
          "output_type": "stream",
          "name": "stdout",
          "text": [
            "False\n"
          ]
        }
      ]
    },
    {
      "cell_type": "code",
      "source": [
        "mylist=\"nature\\tis\\tbeautiful\"\n",
        "x=mylist.expandtabs(7)\n",
        "print(x)                                       #expandtabs"
      ],
      "metadata": {
        "colab": {
          "base_uri": "https://localhost:8080/"
        },
        "id": "5JcCVHCRdK4F",
        "outputId": "e8f6fc19-a4f7-47fc-c7ad-ca2d2aedd72a"
      },
      "execution_count": null,
      "outputs": [
        {
          "output_type": "stream",
          "name": "stdout",
          "text": [
            "nature is     beautiful\n"
          ]
        }
      ]
    },
    {
      "cell_type": "code",
      "source": [
        "mylist=\"nature is beautiful\"\n",
        "x=mylist.find(\"is\")\n",
        "print(x)                                       #find"
      ],
      "metadata": {
        "colab": {
          "base_uri": "https://localhost:8080/"
        },
        "id": "1I3HXyWcdgOG",
        "outputId": "a5b7d956-c66e-40ec-ffc5-0ff78a0ef772"
      },
      "execution_count": null,
      "outputs": [
        {
          "output_type": "stream",
          "name": "stdout",
          "text": [
            "7\n"
          ]
        }
      ]
    },
    {
      "cell_type": "code",
      "source": [
        "mylist=\"for only {price:.2f} dollars!\"\n",
        "print(mylist.format(price=49))                  #format\n"
      ],
      "metadata": {
        "id": "OGj63HohdzNo",
        "colab": {
          "base_uri": "https://localhost:8080/"
        },
        "outputId": "a618d695-d99d-4acc-bd78-55bc468e276e"
      },
      "execution_count": null,
      "outputs": [
        {
          "output_type": "stream",
          "name": "stdout",
          "text": [
            "for only 49.00 dollars!\n"
          ]
        }
      ]
    },
    {
      "cell_type": "code",
      "source": [
        "mylist=\"Hello, welcome to  my world.\"\n",
        "x=mylist.index(\"welcome\")\n",
        "print(x)                                         #index"
      ],
      "metadata": {
        "colab": {
          "base_uri": "https://localhost:8080/"
        },
        "id": "VH9rt-0yoPFa",
        "outputId": "541cc4b2-13ca-418c-de7f-40006bb0378a"
      },
      "execution_count": null,
      "outputs": [
        {
          "output_type": "stream",
          "name": "stdout",
          "text": [
            "7\n"
          ]
        }
      ]
    },
    {
      "cell_type": "code",
      "source": [
        "mylist=\"company12\"\n",
        "x=mylist.isalnum()\n",
        "print(x)                                         #isalnum"
      ],
      "metadata": {
        "colab": {
          "base_uri": "https://localhost:8080/"
        },
        "id": "iXyRhjvDor6k",
        "outputId": "697cb721-2c37-4110-e870-770c4fc0988c"
      },
      "execution_count": null,
      "outputs": [
        {
          "output_type": "stream",
          "name": "stdout",
          "text": [
            "True\n"
          ]
        }
      ]
    },
    {
      "cell_type": "code",
      "source": [
        "mylist=\"sravya\"\n",
        "x=mylist.isalpha()\n",
        "print(x)                                         #isalpha"
      ],
      "metadata": {
        "colab": {
          "base_uri": "https://localhost:8080/"
        },
        "id": "QvixvXg6o-Lg",
        "outputId": "7998ad1a-3f06-463e-9c9e-fcde2e01a5a1"
      },
      "execution_count": null,
      "outputs": [
        {
          "output_type": "stream",
          "name": "stdout",
          "text": [
            "True\n"
          ]
        }
      ]
    },
    {
      "cell_type": "code",
      "source": [
        "mylist=\"sravya1008\"\n",
        "x=mylist.isascii()\n",
        "print(x)                                         #isascii"
      ],
      "metadata": {
        "colab": {
          "base_uri": "https://localhost:8080/"
        },
        "id": "KqiUprBtpNIZ",
        "outputId": "1ac7b82f-51a6-4432-f833-12a9ed28819e"
      },
      "execution_count": null,
      "outputs": [
        {
          "output_type": "stream",
          "name": "stdout",
          "text": [
            "True\n"
          ]
        }
      ]
    },
    {
      "cell_type": "code",
      "source": [
        "mylist=\"12345\"\n",
        "x=mylist.isdecimal()\n",
        "print(x)                                         #isdecimal"
      ],
      "metadata": {
        "colab": {
          "base_uri": "https://localhost:8080/"
        },
        "id": "iDzcTGmrpdPk",
        "outputId": "26f6f325-2182-491b-a91f-d18e9bfc2042"
      },
      "execution_count": null,
      "outputs": [
        {
          "output_type": "stream",
          "name": "stdout",
          "text": [
            "True\n"
          ]
        }
      ]
    },
    {
      "cell_type": "code",
      "source": [
        "mylist=\"50800\"\n",
        "x=mylist.isdigit()\n",
        "print(x)                                         #isdigit"
      ],
      "metadata": {
        "colab": {
          "base_uri": "https://localhost:8080/"
        },
        "id": "K5K6c5c-pnxs",
        "outputId": "296b2e7c-c98f-4387-f7fe-4609e4901ec8"
      },
      "execution_count": null,
      "outputs": [
        {
          "output_type": "stream",
          "name": "stdout",
          "text": [
            "True\n"
          ]
        }
      ]
    },
    {
      "cell_type": "code",
      "source": [
        "mylist=\"Demo\"\n",
        "x=mylist.isidentifier()\n",
        "print(x)                                         #isidentifier"
      ],
      "metadata": {
        "colab": {
          "base_uri": "https://localhost:8080/"
        },
        "id": "UNSe5dXAp061",
        "outputId": "42de8462-748a-403c-b55f-5899e0d9f54e"
      },
      "execution_count": null,
      "outputs": [
        {
          "output_type": "stream",
          "name": "stdout",
          "text": [
            "True\n"
          ]
        }
      ]
    },
    {
      "cell_type": "code",
      "source": [
        "mylist=\"my name is sravay\"\n",
        "x=mylist.islower()\n",
        "print(x)                                          #islower"
      ],
      "metadata": {
        "colab": {
          "base_uri": "https://localhost:8080/"
        },
        "id": "5YKcNzEMqHMT",
        "outputId": "e3f16c41-7986-4fb1-d6f3-610c024d42b8"
      },
      "execution_count": null,
      "outputs": [
        {
          "output_type": "stream",
          "name": "stdout",
          "text": [
            "True\n"
          ]
        }
      ]
    },
    {
      "cell_type": "code",
      "source": [
        "mylist=\"4887\"\n",
        "x=mylist.isnumeric()\n",
        "print(x)                                          #isnumeric"
      ],
      "metadata": {
        "colab": {
          "base_uri": "https://localhost:8080/"
        },
        "id": "1Aux8bidqc4K",
        "outputId": "0bfbddd3-1ce9-444c-f8fe-0dad993b366a"
      },
      "execution_count": null,
      "outputs": [
        {
          "output_type": "stream",
          "name": "stdout",
          "text": [
            "True\n"
          ]
        }
      ]
    },
    {
      "cell_type": "code",
      "source": [
        "mylist=\"Hello! Are you #1?\"\n",
        "x=mylist.isprintable()\n",
        "print(x)                                           #isprintable"
      ],
      "metadata": {
        "colab": {
          "base_uri": "https://localhost:8080/"
        },
        "id": "EAaEfZgOqqoC",
        "outputId": "6e59371f-6e07-4f2e-93d0-e976fb1619e7"
      },
      "execution_count": null,
      "outputs": [
        {
          "output_type": "stream",
          "name": "stdout",
          "text": [
            "True\n"
          ]
        }
      ]
    },
    {
      "cell_type": "code",
      "source": [
        "mylist=\"     \"\n",
        "x=mylist.isspace()\n",
        "print(x)                                           #isspace"
      ],
      "metadata": {
        "colab": {
          "base_uri": "https://localhost:8080/"
        },
        "id": "21-d4awwq_cw",
        "outputId": "4bfd5e15-2cba-4ba7-bb87-c49a748b79f3"
      },
      "execution_count": null,
      "outputs": [
        {
          "output_type": "stream",
          "name": "stdout",
          "text": [
            "True\n"
          ]
        }
      ]
    },
    {
      "cell_type": "code",
      "source": [
        "mylist=\"Hello ,And Welcome To My World\"\n",
        "x=mylist.istitle()\n",
        "print(x)                                           #istitle"
      ],
      "metadata": {
        "colab": {
          "base_uri": "https://localhost:8080/"
        },
        "id": "T6QYkmBbrpHu",
        "outputId": "2af2e63a-c0a4-4256-bae9-5579e759bf87"
      },
      "execution_count": null,
      "outputs": [
        {
          "output_type": "stream",
          "name": "stdout",
          "text": [
            "True\n"
          ]
        }
      ]
    },
    {
      "cell_type": "code",
      "source": [
        "mylist=\"WELCOME TO MY WORLD\"\n",
        "x=mylist.isupper()\n",
        "print(x)                                           #isupper"
      ],
      "metadata": {
        "colab": {
          "base_uri": "https://localhost:8080/"
        },
        "id": "9I-R8KFYsFcg",
        "outputId": "d9677683-9606-4e12-c65d-ff6e09d430ac"
      },
      "execution_count": null,
      "outputs": [
        {
          "output_type": "stream",
          "name": "stdout",
          "text": [
            "True\n"
          ]
        }
      ]
    },
    {
      "cell_type": "code",
      "source": [
        "mylist=(\"sravya\",\"kavya\",\"sai\")\n",
        "x=\"#\".join(mylist)\n",
        "print(x)                                           #join"
      ],
      "metadata": {
        "colab": {
          "base_uri": "https://localhost:8080/"
        },
        "id": "TKTjw7C0sYMf",
        "outputId": "1d1a9235-a057-41e9-de9f-66a0f6300ddb"
      },
      "execution_count": null,
      "outputs": [
        {
          "output_type": "stream",
          "name": "stdout",
          "text": [
            "sravya#kavya#sai\n"
          ]
        }
      ]
    },
    {
      "cell_type": "code",
      "source": [
        "mylist=\"banana\"\n",
        "x=mylist.ljust(10)\n",
        "print(x,\"is my favoritr fruit\")                   #ljust"
      ],
      "metadata": {
        "colab": {
          "base_uri": "https://localhost:8080/"
        },
        "id": "uakUmqBgsw0Z",
        "outputId": "d0a8176f-3323-4171-e4a6-54f7afabbeaa"
      },
      "execution_count": null,
      "outputs": [
        {
          "output_type": "stream",
          "name": "stdout",
          "text": [
            "banana     is my favoritr fruit\n"
          ]
        }
      ]
    },
    {
      "cell_type": "code",
      "source": [
        "mylist=\"MY NAME IS KAVYA\"\n",
        "x=mylist.lower()\n",
        "print(x)                                           #lower"
      ],
      "metadata": {
        "colab": {
          "base_uri": "https://localhost:8080/"
        },
        "id": "w_krwIwKtDnK",
        "outputId": "63ff912d-939f-40bb-8540-a25b60b33006"
      },
      "execution_count": null,
      "outputs": [
        {
          "output_type": "stream",
          "name": "stdout",
          "text": [
            "my name is kavya\n"
          ]
        }
      ]
    },
    {
      "cell_type": "code",
      "source": [
        "mylist=\"      banana    \"\n",
        "x=mylist.lstrip()\n",
        "print(\"of all fruits\",x,\"is my favorite\")          #lstrip"
      ],
      "metadata": {
        "colab": {
          "base_uri": "https://localhost:8080/"
        },
        "id": "Xyhq-HA5uJOz",
        "outputId": "ae402c13-dc41-41eb-a9aa-fde3f2b48c27"
      },
      "execution_count": null,
      "outputs": [
        {
          "output_type": "stream",
          "name": "stdout",
          "text": [
            "of all fruits banana     is my favorite\n"
          ]
        }
      ]
    },
    {
      "cell_type": "code",
      "source": [
        "mylist=\"I could eat bananas all day\"\n",
        "x=mylist.partition(\"bananas\")\n",
        "print(x)                                          #partition"
      ],
      "metadata": {
        "colab": {
          "base_uri": "https://localhost:8080/"
        },
        "id": "KhaMbwpTtD6K",
        "outputId": "54977580-702b-4a97-b9c4-c2ef8272d570"
      },
      "execution_count": null,
      "outputs": [
        {
          "output_type": "stream",
          "name": "stdout",
          "text": [
            "('I could eat ', 'bananas', ' all day')\n"
          ]
        }
      ]
    },
    {
      "cell_type": "code",
      "source": [
        "mylist=\"I like bananas\"\n",
        "x=mylist.replace(\"bananas\",\"apples\")\n",
        "print(x)                                          #replace"
      ],
      "metadata": {
        "colab": {
          "base_uri": "https://localhost:8080/"
        },
        "id": "tjM2w2bxvJuN",
        "outputId": "03c5926e-c32d-4fa2-a7c7-a73db492f8cb"
      },
      "execution_count": null,
      "outputs": [
        {
          "output_type": "stream",
          "name": "stdout",
          "text": [
            "I like apples\n"
          ]
        }
      ]
    },
    {
      "cell_type": "code",
      "source": [
        "mylist=\"Mi casa, su casa.\"\n",
        "x=mylist.rfind(\"su\")\n",
        "print(x)                                          #rfind"
      ],
      "metadata": {
        "colab": {
          "base_uri": "https://localhost:8080/"
        },
        "id": "LoZU855hvfPV",
        "outputId": "6531dfc6-f14d-4639-91d5-834217c12688"
      },
      "execution_count": null,
      "outputs": [
        {
          "output_type": "stream",
          "name": "stdout",
          "text": [
            "9\n"
          ]
        }
      ]
    },
    {
      "cell_type": "code",
      "source": [
        "mylist=\"Mi casa, su casa\"\n",
        "x=mylist.rindex(\"casa\")\n",
        "print(x)                                          #rindex"
      ],
      "metadata": {
        "colab": {
          "base_uri": "https://localhost:8080/"
        },
        "id": "QLK5rq45v8q_",
        "outputId": "88d9f93c-b1ec-4f58-b648-1ba3d95a2ce0"
      },
      "execution_count": null,
      "outputs": [
        {
          "output_type": "stream",
          "name": "stdout",
          "text": [
            "12\n"
          ]
        }
      ]
    },
    {
      "cell_type": "code",
      "source": [
        "mylist=\"banana\"\n",
        "x=mylist.rjust(10)\n",
        "print(x,\"is my favorite fruit.\")                  #rjust"
      ],
      "metadata": {
        "colab": {
          "base_uri": "https://localhost:8080/"
        },
        "id": "Y-q459Y9wXTG",
        "outputId": "20dee43b-f698-4a15-c9b4-a5241bb8d2a6"
      },
      "execution_count": null,
      "outputs": [
        {
          "output_type": "stream",
          "name": "stdout",
          "text": [
            "    banana is my favorite fruit.\n"
          ]
        }
      ]
    },
    {
      "cell_type": "code",
      "source": [
        "mylist=\"I could eat bananas all day,bananas are my favorite fruit\"\n",
        "x=mylist.rpartition(\"bananas\")\n",
        "print(x)                                          #rpartition"
      ],
      "metadata": {
        "colab": {
          "base_uri": "https://localhost:8080/"
        },
        "id": "-GKV3zWKwo07",
        "outputId": "c469bfda-8bf9-4d43-9144-a0db29100e49"
      },
      "execution_count": null,
      "outputs": [
        {
          "output_type": "stream",
          "name": "stdout",
          "text": [
            "('I could eat bananas all day,', 'bananas', ' are my favorite fruit')\n"
          ]
        }
      ]
    },
    {
      "cell_type": "code",
      "source": [
        "mylist=\"   banana    \"\n",
        "x=mylist.rstrip()\n",
        "print(\"of all fruits\",x,\"is my favorite\")         #rstrip"
      ],
      "metadata": {
        "id": "ITxpUBufxM54",
        "colab": {
          "base_uri": "https://localhost:8080/"
        },
        "outputId": "9fbab90b-c676-488c-fd9c-df8e8efc9023"
      },
      "execution_count": 1,
      "outputs": [
        {
          "output_type": "stream",
          "name": "stdout",
          "text": [
            "of all fruits    banana is my favorite\n"
          ]
        }
      ]
    },
    {
      "cell_type": "code",
      "source": [
        "mylist=\"welcome to the jungle\"\n",
        "x=mylist.split()\n",
        "print(x)                                          #split"
      ],
      "metadata": {
        "colab": {
          "base_uri": "https://localhost:8080/"
        },
        "id": "tKHWa7hWo4-C",
        "outputId": "e77667b9-b2f4-4841-f2ae-00627dd866ce"
      },
      "execution_count": 2,
      "outputs": [
        {
          "output_type": "stream",
          "name": "stdout",
          "text": [
            "['welcome', 'to', 'the', 'jungle']\n"
          ]
        }
      ]
    },
    {
      "cell_type": "code",
      "source": [
        "mylist=\"Thank you for the music\\nWelcome to the jungle\"\n",
        "x=mylist.splitlines()\n",
        "print(x)                                          #splitlines"
      ],
      "metadata": {
        "colab": {
          "base_uri": "https://localhost:8080/"
        },
        "id": "x8xY3FdapG-y",
        "outputId": "c0a55d75-e97a-43f7-e08c-eb170efd85c6"
      },
      "execution_count": 3,
      "outputs": [
        {
          "output_type": "stream",
          "name": "stdout",
          "text": [
            "['Thank you for the music', 'Welcome to the jungle']\n"
          ]
        }
      ]
    },
    {
      "cell_type": "code",
      "source": [
        "mylist=\"Hello,welcome to my world.\"\n",
        "x=mylist.startswith(\"Hello\")\n",
        "print(x)                                          #startswith"
      ],
      "metadata": {
        "colab": {
          "base_uri": "https://localhost:8080/"
        },
        "id": "7_HU9Pwvpd8B",
        "outputId": "12072a2e-91db-4b56-8af4-3510446e95c9"
      },
      "execution_count": 4,
      "outputs": [
        {
          "output_type": "stream",
          "name": "stdout",
          "text": [
            "True\n"
          ]
        }
      ]
    },
    {
      "cell_type": "code",
      "source": [
        "mylist=\"   banana   \"\n",
        "x=mylist.strip()\n",
        "print(\"of ll fruits\",x,\"is my favorite\")          #strip"
      ],
      "metadata": {
        "colab": {
          "base_uri": "https://localhost:8080/"
        },
        "id": "66qTZCgIpwfH",
        "outputId": "34c2a778-aa59-4e14-da71-4c1399f8d20a"
      },
      "execution_count": 5,
      "outputs": [
        {
          "output_type": "stream",
          "name": "stdout",
          "text": [
            "of ll fruits banana is my favorite\n"
          ]
        }
      ]
    },
    {
      "cell_type": "code",
      "source": [
        "mylist=\"Hello My Name Is PETER\"\n",
        "x=mylist.swapcase()\n",
        "print(x)                                         #swapcase"
      ],
      "metadata": {
        "colab": {
          "base_uri": "https://localhost:8080/"
        },
        "id": "lMnknBHyqKPM",
        "outputId": "16f6c81f-0fa9-4f23-c760-647e6e1337af"
      },
      "execution_count": 6,
      "outputs": [
        {
          "output_type": "stream",
          "name": "stdout",
          "text": [
            "hELLO mY nAME iS peter\n"
          ]
        }
      ]
    },
    {
      "cell_type": "code",
      "source": [
        "mylist=\"Welcome to my world\"\n",
        "x=mylist.title()\n",
        "print(x)                                          #title"
      ],
      "metadata": {
        "colab": {
          "base_uri": "https://localhost:8080/"
        },
        "id": "wUEqANAoqc3n",
        "outputId": "2510e6c1-6784-49d5-b60c-ca1233d484e1"
      },
      "execution_count": 7,
      "outputs": [
        {
          "output_type": "stream",
          "name": "stdout",
          "text": [
            "Welcome To My World\n"
          ]
        }
      ]
    },
    {
      "cell_type": "code",
      "source": [
        "mydict={83:80}\n",
        "txt=\"Hello sam!\"\n",
        "print(txt.translate(mydict))                       #translate"
      ],
      "metadata": {
        "colab": {
          "base_uri": "https://localhost:8080/"
        },
        "id": "UL3NN5UnqqVV",
        "outputId": "b8411b74-a418-432d-c51a-2da15a0292fc"
      },
      "execution_count": 8,
      "outputs": [
        {
          "output_type": "stream",
          "name": "stdout",
          "text": [
            "Hello sam!\n"
          ]
        }
      ]
    },
    {
      "cell_type": "code",
      "source": [
        "mylist=\"Hello my friends\"\n",
        "x=txt.upper()\n",
        "print(x)                                           #upper"
      ],
      "metadata": {
        "colab": {
          "base_uri": "https://localhost:8080/"
        },
        "id": "Kj-pY7sSq__L",
        "outputId": "01aec92f-c9db-4239-c508-c729b8ec33a4"
      },
      "execution_count": 9,
      "outputs": [
        {
          "output_type": "stream",
          "name": "stdout",
          "text": [
            "HELLO SAM!\n"
          ]
        }
      ]
    },
    {
      "cell_type": "code",
      "source": [
        "mylist=\"50\"\n",
        "x=txt.zfill(10)\n",
        "print(x)                                           #zfill"
      ],
      "metadata": {
        "colab": {
          "base_uri": "https://localhost:8080/"
        },
        "id": "QFqXv_nOrPsp",
        "outputId": "9bae4afb-7a24-4ac2-c5c0-5b44cf15e43c"
      },
      "execution_count": 10,
      "outputs": [
        {
          "output_type": "stream",
          "name": "stdout",
          "text": [
            "Hello sam!\n"
          ]
        }
      ]
    }
  ]
}