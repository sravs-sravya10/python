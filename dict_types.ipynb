{
  "nbformat": 4,
  "nbformat_minor": 0,
  "metadata": {
    "colab": {
      "provenance": [],
      "authorship_tag": "ABX9TyP3juhtEnwqUx3HAURFTuhx",
      "include_colab_link": true
    },
    "kernelspec": {
      "name": "python3",
      "display_name": "Python 3"
    },
    "language_info": {
      "name": "python"
    }
  },
  "cells": [
    {
      "cell_type": "markdown",
      "metadata": {
        "id": "view-in-github",
        "colab_type": "text"
      },
      "source": [
        "<a href=\"https://colab.research.google.com/github/sravs-sravya10/python/blob/main/dict_types.ipynb\" target=\"_parent\"><img src=\"https://colab.research.google.com/assets/colab-badge.svg\" alt=\"Open In Colab\"/></a>"
      ]
    },
    {
      "cell_type": "code",
      "execution_count": null,
      "metadata": {
        "colab": {
          "base_uri": "https://localhost:8080/"
        },
        "id": "QAnfFu1iLVQI",
        "outputId": "76eee7f9-2827-43fd-fc89-dd499195291c"
      },
      "outputs": [
        {
          "output_type": "stream",
          "name": "stdout",
          "text": [
            "{}\n"
          ]
        }
      ],
      "source": [
        "car={\"band\" : \"ford\",\"model\" :\"mustang\",\"year\": 1964}\n",
        "x=car.clear()\n",
        "print(car)                                            #clear"
      ]
    },
    {
      "cell_type": "code",
      "source": [
        "car={\"band\" : \"ford\",\"model\" :\"mustang\",\"year\": 1964}\n",
        "x=car.copy()\n",
        "print(x)                                             #copy"
      ],
      "metadata": {
        "colab": {
          "base_uri": "https://localhost:8080/"
        },
        "id": "q_9BE5WSM4WP",
        "outputId": "9574413f-ec84-4e3b-e168-31a2397e459d"
      },
      "execution_count": null,
      "outputs": [
        {
          "output_type": "stream",
          "name": "stdout",
          "text": [
            "{'band': 'ford', 'model': 'mustang', 'year': 1964}\n"
          ]
        }
      ]
    },
    {
      "cell_type": "code",
      "source": [
        "x=('key1','key2','key3')\n",
        "y=0\n",
        "thisdict=dict.fromkeys(x,y)\n",
        "print(thisdict)                                      #fromkeys"
      ],
      "metadata": {
        "colab": {
          "base_uri": "https://localhost:8080/"
        },
        "id": "2vyi2JXJNIjc",
        "outputId": "be90d74b-53af-478f-e0f6-1b6e072ec7d5"
      },
      "execution_count": null,
      "outputs": [
        {
          "output_type": "stream",
          "name": "stdout",
          "text": [
            "{'key1': 0, 'key2': 0, 'key3': 0}\n"
          ]
        }
      ]
    },
    {
      "cell_type": "code",
      "source": [
        "car={\"band\" : \"ford\",\"model\" :\"mustang\",\"year\": 1964}\n",
        "x=car.get(\"model\")\n",
        "print(x)                                            #gets"
      ],
      "metadata": {
        "colab": {
          "base_uri": "https://localhost:8080/"
        },
        "id": "1l1f3iEONrEe",
        "outputId": "c739a776-eb82-4f3d-8082-1eabb9591607"
      },
      "execution_count": null,
      "outputs": [
        {
          "output_type": "stream",
          "name": "stdout",
          "text": [
            "mustang\n"
          ]
        }
      ]
    },
    {
      "cell_type": "code",
      "source": [
        "car={\"band\" : \"ford\",\"model\" :\"mustang\",\"year\": 1964}\n",
        "x=car.keys()\n",
        "print(x)                                            #keys"
      ],
      "metadata": {
        "colab": {
          "base_uri": "https://localhost:8080/"
        },
        "id": "YvNbDrsPN86R",
        "outputId": "510f1114-1378-4509-dcca-6097446e699e"
      },
      "execution_count": null,
      "outputs": [
        {
          "output_type": "stream",
          "name": "stdout",
          "text": [
            "dict_keys(['band', 'model', 'year'])\n"
          ]
        }
      ]
    },
    {
      "cell_type": "code",
      "source": [
        "car={\"band\" : \"ford\",\"model\" :\"mustang\",\"year\": 1964}\n",
        "x=car.pop(\"model\")\n",
        "print(x)                                            #pop"
      ],
      "metadata": {
        "colab": {
          "base_uri": "https://localhost:8080/"
        },
        "id": "iANlKW76ORPc",
        "outputId": "c2d1d394-2c1d-46d3-d3da-a202a8a418f8"
      },
      "execution_count": null,
      "outputs": [
        {
          "output_type": "stream",
          "name": "stdout",
          "text": [
            "mustang\n"
          ]
        }
      ]
    },
    {
      "cell_type": "code",
      "source": [
        "car={\"band\" : \"ford\",\"model\" :\"mustang\",\"year\": 1964}\n",
        "x=car.popitem()\n",
        "print(car)                                          #popitem"
      ],
      "metadata": {
        "colab": {
          "base_uri": "https://localhost:8080/"
        },
        "id": "yOybLW6eOp4t",
        "outputId": "a3e27493-4248-4eb4-a627-ee453c1fb2eb"
      },
      "execution_count": null,
      "outputs": [
        {
          "output_type": "stream",
          "name": "stdout",
          "text": [
            "{'band': 'ford', 'model': 'mustang'}\n"
          ]
        }
      ]
    },
    {
      "cell_type": "code",
      "source": [
        "car={\"band\" : \"ford\",\"model\" :\"mustang\",\"year\": 1964}\n",
        "x=car.setdefault(\"model\"\"bronco\")\n",
        "print(x)                                            #setdefault"
      ],
      "metadata": {
        "colab": {
          "base_uri": "https://localhost:8080/"
        },
        "id": "uC9w2lbIO5Nd",
        "outputId": "5e530afa-7647-4325-a918-089103ff5a0a"
      },
      "execution_count": null,
      "outputs": [
        {
          "output_type": "stream",
          "name": "stdout",
          "text": [
            "None\n"
          ]
        }
      ]
    },
    {
      "cell_type": "code",
      "source": [
        "car={\"band\" : \"ford\",\"model\" :\"mustang\",\"year\": 1964}\n",
        "x=car.update({\"color\":\"white\"})\n",
        "print(x)                                           #update"
      ],
      "metadata": {
        "colab": {
          "base_uri": "https://localhost:8080/"
        },
        "id": "XEv_05vIPQdc",
        "outputId": "92f640cb-c8e4-4415-bdd0-080d7020458c"
      },
      "execution_count": null,
      "outputs": [
        {
          "output_type": "stream",
          "name": "stdout",
          "text": [
            "None\n"
          ]
        }
      ]
    },
    {
      "cell_type": "code",
      "source": [
        "car={\"band\" : \"ford\",\"model\" :\"mustang\",\"year\": 1964}\n",
        "x=car.values()\n",
        "print(x)                                           #values"
      ],
      "metadata": {
        "colab": {
          "base_uri": "https://localhost:8080/"
        },
        "id": "JwMdH07hPmmB",
        "outputId": "1bd3e1d6-a307-4dca-db86-d8809b0e89a5"
      },
      "execution_count": null,
      "outputs": [
        {
          "output_type": "stream",
          "name": "stdout",
          "text": [
            "dict_values(['ford', 'mustang', 1964])\n"
          ]
        }
      ]
    }
  ]
}